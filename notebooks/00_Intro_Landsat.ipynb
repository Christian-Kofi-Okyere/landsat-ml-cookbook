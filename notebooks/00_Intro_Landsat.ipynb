{
 "cells": [
  {
   "cell_type": "markdown",
   "id": "477b00c6-6565-4a16-b302-46dac2fff9de",
   "metadata": {},
   "source": [
    "<center><img src=\"./images/nasa-landsat8.jpg\" alt=\"Landsat 8\"/></center>"
   ]
  },
  {
   "cell_type": "markdown",
   "id": "e9a66402-d146-40a2-a013-ef1078026efa",
   "metadata": {},
   "source": [
    "# Start Here - Intro to Landsat Data"
   ]
  },
  {
   "cell_type": "markdown",
   "id": "8a8416c4-c56b-4b53-bc3f-8eb6285dfcac",
   "metadata": {},
   "source": [
    "---"
   ]
  },
  {
   "cell_type": "markdown",
   "id": "a6587d1b-8e22-4404-abf0-0da0bfde096e",
   "metadata": {},
   "source": [
    "## Overview\n",
    "\n",
    "In this cookbook, you will access, process, analyze, and visualize satellite data in the context of machine learning workflows. This particular cookbook page will provide an introduction to Landsat data to build our intuition as we move toward processing and analysis.\n",
    "\n",
    "Machine learning tasks often involve a lot of data, and in Python, data is typically stored in memory as simple [NumPy](https://foundations.projectpythia.org/core/numpy.html) arrays. However, higher-level containers built on top of NumPy arrays provide more functionality for multidimensional gridded data ([xarray](http://xarray.pydata.org)) or out-of-core and distributed data ([Dask](http://dask.pydata.org)). Our goal for data ingestion will be to load Landsat data into one of these higher-level containers.\n",
    "\n",
    "Earth science datasets are often stored on remote servers that may be too large to download locally. Therefore, in this cookbook, we will focus primarily on common Landsat data ingestion approaches that rely on large and remote data. Importantly, the approach for your own work will depend not only on data size and location, but also the intended analysis.\n"
   ]
  },
  {
   "cell_type": "markdown",
   "id": "a8cb6848-e976-4390-9195-64ffb9049d81",
   "metadata": {},
   "source": [
    "- **Time to learn**: 5 minutes"
   ]
  },
  {
   "cell_type": "markdown",
   "id": "5ecd112d-3666-4412-acce-05a6dd770de9",
   "metadata": {},
   "source": [
    "## Key Aspects of Landsat Data"
   ]
  },
  {
   "cell_type": "markdown",
   "id": "3b8e2b5e-9a96-4161-96b6-f0bbe6b17f47",
   "metadata": {},
   "source": [
    "The data in this cookbook originally come from the [Landsat](https://en.wikipedia.org/wiki/Landsat_program) program, which is the longest record of moderate resolution multispectral data of the Earth’s surface. This program has launched several different satellites spanning many years which are designated as Landsat 1-9.\n",
    "\n",
    "<center><img src = \"images/landsat_timeline.png\"></center>\n",
    "<p style=\"text-align: center\">\n",
    "Source: USGS - <a href=\"https://www.usgs.gov/landsat-missions/landsat-satellite-missions?qt-science_support_page_related_con=2#qt-science_support_page_related_con\">USGS Landsat Timeline</a>\n",
    "</p>\n",
    "\n",
    "\n",
    "Importantly, the instruments on different Landsat missions (1-9) varied in certain aspects, and the same images may be available from multiple sources but with various levels of processing applied. For the dataset that you end up using, it is crucial to review to relevant information from NASA, USGS, or the particular data provider to understand these important differences.\n",
    "\n",
    "However, a common aspect of Landsat data is the use of different wavelength-bands to capture multiple images of the same area - together providing much more information about different features on the ground than a single image alone. This provides us with a stack of images for each spatial region that we might be interested.\n",
    "\n",
    "\n",
    "\n",
    "<center><img style=\"max-height:725px;\" src = \"images/nasa_bands.png\"></center>\n",
    "<p style=\"text-align: center\">\n",
    "Source: NASA - <a href=\"https://landsat.gsfc.nasa.gov/satellites/landsat-next/\">Spectral Bands</a>\n",
    "</p>\n",
    "\n",
    "\n",
    "Additionally, whenever we are looking at changes in satellite images over time, we will have an additional time dimension. For example, we will consider two stacks of images from different years to look at the change in the water level around a lake.\n"
   ]
  },
  {
   "cell_type": "code",
   "execution_count": null,
   "id": "3fc2eac3-d937-4021-9ea6-68c38d576bd7",
   "metadata": {},
   "outputs": [],
   "source": []
  },
  {
   "cell_type": "markdown",
   "id": "6e54a0ab-93e4-4299-a036-0fa7c3e23ec5",
   "metadata": {},
   "source": [
    "## Resources and references\n",
    "- The landsat timeline image is originally from [USGS](https://www.usgs.gov/landsat-missions/landsat-satellite-missions?qt-science_support_page_related_con=2) but discovered through [earthsciencedata.org](https://www.earthdatascience.org/courses/use-data-open-source-python/multispectral-remote-sensing/landsat-in-Python/)\n",
    "- The landsat 8 banner image is from [NASA](https://www.nasa.gov/mission_pages/landsat/main/LDCM_Spacecraft_intro.html)\n",
    "- This page was authored by Demetris Roumis circa Jan, 2023"
   ]
  },
  {
   "cell_type": "code",
   "execution_count": null,
   "id": "19ab7de3-4761-48e1-9e8a-c234abcc1547",
   "metadata": {},
   "outputs": [],
   "source": []
  }
 ],
 "metadata": {
  "kernelspec": {
   "display_name": "Python [conda env:landsat-ml-cookbook]",
   "language": "python",
   "name": "conda-env-landsat-ml-cookbook-py"
  },
  "language_info": {
   "codemirror_mode": {
    "name": "ipython",
    "version": 3
   },
   "file_extension": ".py",
   "mimetype": "text/x-python",
   "name": "python",
   "nbconvert_exporter": "python",
   "pygments_lexer": "ipython3",
   "version": "3.10.8"
  }
 },
 "nbformat": 4,
 "nbformat_minor": 5
}
